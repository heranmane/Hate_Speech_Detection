{
 "cells": [
  {
   "cell_type": "code",
   "execution_count": 6,
   "metadata": {},
   "outputs": [
    {
     "ename": "SyntaxError",
     "evalue": "invalid syntax (<ipython-input-6-a7bf539f0280>, line 1)",
     "output_type": "error",
     "traceback": [
      "\u001b[0;36m  File \u001b[0;32m\"<ipython-input-6-a7bf539f0280>\"\u001b[0;36m, line \u001b[0;32m1\u001b[0m\n\u001b[0;31m    API key = \"tuBhSSOcTJ8ED8dLVuTmnluA5\"\u001b[0m\n\u001b[0m          ^\u001b[0m\n\u001b[0;31mSyntaxError\u001b[0m\u001b[0;31m:\u001b[0m invalid syntax\n"
     ]
    }
   ],
   "source": [
    "API key : \"tuBhSSOcTJ8ED8dLVuTmnluA5\"\n",
    "API secret Key : \"ilsXQEDDmXpVgyRqKriz0eEwdae2aDj5Qu89uP3PQDFAxrj05W\"\n",
    "Bearer Token : \"AAAAAAAAAAAAAAAAAAAAAFRnQQEAAAAAFh2zB4ZgnDRjW7DOWutPyAGLu7k%3Dq47v6wTyUrYjWa8rK6Qi1JYVgUzA2kJEpu4G5IEVCoPzwzElAQ\"\n",
    "Access Token : \"1400501725937557507-n74mxACaoe5YAAPcQ1FCowEN05CoOy\"\n",
    "Access Token Secret:\"x52qedxioac1IuiugaXAdvoSoSzcVgav2nDGTit4ySnzHucBP\""
   ]
  },
  {
   "cell_type": "code",
   "execution_count": 7,
   "metadata": {},
   "outputs": [
    {
     "ename": "SyntaxError",
     "evalue": "invalid syntax (<ipython-input-7-ca49b0f3e04c>, line 1)",
     "output_type": "error",
     "traceback": [
      "\u001b[0;36m  File \u001b[0;32m\"<ipython-input-7-ca49b0f3e04c>\"\u001b[0;36m, line \u001b[0;32m1\u001b[0m\n\u001b[0;31m    API key = \"tuBhSSOcTJ8ED8dLVuTmnluA5\"\u001b[0m\n\u001b[0m          ^\u001b[0m\n\u001b[0;31mSyntaxError\u001b[0m\u001b[0;31m:\u001b[0m invalid syntax\n"
     ]
    }
   ],
   "source": [
    "API key = \"tuBhSSOcTJ8ED8dLVuTmnluA5\""
   ]
  },
  {
   "cell_type": "code",
   "execution_count": 9,
   "metadata": {},
   "outputs": [],
   "source": [
    "import searchtweets as tw\n",
    "# search_args = tw.load_credentials(\"~/.twitter_keys.yaml\",\n",
    "#                                      yaml_key=\"search_tweets_v2\",\n",
    "#                                      env_overwrite=False)"
   ]
  },
  {
   "cell_type": "code",
   "execution_count": 11,
   "metadata": {},
   "outputs": [
    {
     "ename": "SyntaxError",
     "evalue": "invalid syntax (<ipython-input-11-55d854a6cbf5>, line 1)",
     "output_type": "error",
     "traceback": [
      "\u001b[0;36m  File \u001b[0;32m\"<ipython-input-11-55d854a6cbf5>\"\u001b[0;36m, line \u001b[0;32m1\u001b[0m\n\u001b[0;31m    search_args = tw.load_credentials(API_key : \"tuBhSSOcTJ8ED8dLVuTmnluA5\",\u001b[0m\n\u001b[0m                                              ^\u001b[0m\n\u001b[0;31mSyntaxError\u001b[0m\u001b[0;31m:\u001b[0m invalid syntax\n"
     ]
    }
   ],
   "source": [
    "search_args = tw.load_credentials(API_key : \"tuBhSSOcTJ8ED8dLVuTmnluA5\",\n",
    "API secret Key : \"ilsXQEDDmXpVgyRqKriz0eEwdae2aDj5Qu89uP3PQDFAxrj05W\",\n",
    "Bearer Token : \"AAAAAAAAAAAAAAAAAAAAAFRnQQEAAAAAFh2zB4ZgnDRjW7DOWutPyAGLu7k%3Dq47v6wTyUrYjWa8rK6Qi1JYVgUzA2kJEpu4G5IEVCoPzwzElAQ\",\n",
    "Access Token : \"1400501725937557507-n74mxACaoe5YAAPcQ1FCowEN05CoOy\",\n",
    "Access Token Secret:\"x52qedxioac1IuiugaXAdvoSoSzcVgav2nDGTit4ySnzHucBP\")"
   ]
  },
  {
   "cell_type": "code",
   "execution_count": null,
   "metadata": {},
   "outputs": [],
   "source": []
  }
 ],
 "metadata": {
  "kernelspec": {
   "display_name": "Python 3",
   "language": "python",
   "name": "python3"
  },
  "language_info": {
   "codemirror_mode": {
    "name": "ipython",
    "version": 3
   },
   "file_extension": ".py",
   "mimetype": "text/x-python",
   "name": "python",
   "nbconvert_exporter": "python",
   "pygments_lexer": "ipython3",
   "version": "3.7.6"
  }
 },
 "nbformat": 4,
 "nbformat_minor": 4
}
